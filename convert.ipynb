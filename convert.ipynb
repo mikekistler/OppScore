{
 "cells": [
  {
   "cell_type": "markdown",
   "metadata": {},
   "source": [
    "# Convert\n",
    "\n",
    "This notebook converts the survey results exported from SurveyMonkey to the format required by the OppScore notebook."
   ]
  },
  {
   "cell_type": "code",
   "execution_count": 2,
   "metadata": {},
   "outputs": [],
   "source": [
    "import pandas as pd\n",
    "\n",
    "# Read the CSV file\n",
    "df = pd.read_csv(\"SurveyMonkey.csv\")"
   ]
  },
  {
   "cell_type": "code",
   "execution_count": 3,
   "metadata": {},
   "outputs": [],
   "source": [
    "# Drop columns that are not \"How important is it\" or \"How satisfied are you\"\n",
    "keepcol = lambda col: col.startswith(\"How important is it\") or col.startswith(\"How satisfied are you\")\n",
    "df.drop(columns=[col for col in df.columns if not keepcol(col)], inplace=True)"
   ]
  },
  {
   "cell_type": "code",
   "execution_count": 4,
   "metadata": {},
   "outputs": [],
   "source": [
    "def get_outcome(question: str) -> str:\n",
    "    if question.find(\"API-first development process\") != -1:\n",
    "        return \"API-first development process\"\n",
    "    elif question.find(\"minimize the amount of API design metadata\") != -1:\n",
    "        return \"Minimize the amount of API design metadata\"\n",
    "    elif question.find(\"validate query/header/route parameters\") != -1:\n",
    "        return \"Validate route handler inputs\"\n",
    "    elif question.find(\"include the security scheme and security requirements\") != -1:\n",
    "        return \"Include the security scheme and requirements\"\n",
    "    elif question.find(\"use features / libraries that are native AOT friendly\") != -1:\n",
    "        return \"Use features that are native AOT friendly\"\n",
    "\n",
    "    return \"Unknown\"\n",
    "\n"
   ]
  },
  {
   "cell_type": "code",
   "execution_count": 5,
   "metadata": {},
   "outputs": [],
   "source": [
    "# Create a new data frame with three columns: Outcome, Importance, Satisfaction\n",
    "# The Outcome column will have the question text\n",
    "# The Importance column will have the importance rating\n",
    "# The Satisfaction column will have the satisfaction rating\n",
    "df2 = pd.DataFrame(columns=[\"outcome\", \"importance\", \"satisfaction\"])\n",
    "\n",
    "while len(df.columns) > 0:\n",
    "    question = df.columns[0]\n",
    "    outcome = get_outcome(question)\n",
    "    # The importance is the first column, the satisfaction is the second column\n",
    "    importance = df.iloc[1:, 0]\n",
    "    satisfaction = df.iloc[1:, 1]\n",
    "\n",
    "    df3 = pd.DataFrame(columns=[\"outcome\", \"importance\", \"satisfaction\"])\n",
    "    df3[\"outcome\"] = [outcome] * len(importance)\n",
    "    df3[\"importance\"] = importance\n",
    "    df3[\"satisfaction\"] = satisfaction\n",
    "\n",
    "    # Append the df3 data frame to df2\n",
    "    df2 = pd.concat([df2, df3])\n",
    "\n",
    "    # Drop the first two columns\n",
    "    df.drop(columns=df.columns[:2], inplace=True)\n",
    "\n",
    "# print(df2)\n"
   ]
  },
  {
   "cell_type": "code",
   "execution_count": 6,
   "metadata": {},
   "outputs": [],
   "source": [
    "# Convert the importance and satisfaction columns to numeric values\n",
    "\n",
    "importanceToNumber = {\"Not at all important\": 1, \"Not so important\": 2, \"Neutral\": 3, \"Somewhat important\": 3, \"Very important\": 4, \"Extremely important\": 5}\n",
    "satisfactionToNumber = {\"Very dissatisfied\": 1, \"Dissatisfied\": 2, \"Neither satisfied nor dissatisfied\": 3, \"Satisfied\": 4, \"Very satisfied\": 5}\n",
    "\n",
    "df2[\"importance\"] = df2[\"importance\"].map(importanceToNumber)\n",
    "df2[\"satisfaction\"] = df2[\"satisfaction\"].map(satisfactionToNumber)\n",
    "\n",
    "# print(df2)"
   ]
  },
  {
   "cell_type": "code",
   "execution_count": 7,
   "metadata": {},
   "outputs": [],
   "source": [
    "# drop NAN values\n",
    "df2.dropna(inplace=True)\n",
    "\n",
    "# Write the data frame to a new CSV file\n",
    "df2.to_csv(\"OppScore.csv\", index=False)"
   ]
  }
 ],
 "metadata": {
  "kernelspec": {
   "display_name": "Python 3",
   "language": "python",
   "name": "python3"
  },
  "language_info": {
   "codemirror_mode": {
    "name": "ipython",
    "version": 3
   },
   "file_extension": ".py",
   "mimetype": "text/x-python",
   "name": "python",
   "nbconvert_exporter": "python",
   "pygments_lexer": "ipython3",
   "version": "3.12.5"
  }
 },
 "nbformat": 4,
 "nbformat_minor": 2
}
