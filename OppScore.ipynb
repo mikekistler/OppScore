{
 "cells": [
  {
   "cell_type": "code",
   "execution_count": null,
   "metadata": {},
   "outputs": [],
   "source": [
    "# Import necessary libraries\n",
    "import pandas as pd\n",
    "import matplotlib.pyplot as plt\n",
    "\n",
    "# Define the midpoint\n",
    "midpoint = 3\n",
    "\n",
    "# Set file and column names\n",
    "filename = \"OppScore.csv\"\n",
    "outcome_name = \"outcome\"\n",
    "imp_name = \"importance\"\n",
    "sat_name = \"satisfaction\"\n",
    "remove_missing = True"
   ]
  },
  {
   "cell_type": "code",
   "execution_count": null,
   "metadata": {},
   "outputs": [],
   "source": [
    "# Define functions\n",
    "\n",
    "# Opportunity score = Importance + max(Importance − Satisfaction , 0)\n",
    "def op_score(imp, sat):\n",
    "    return imp + max(imp - sat, 0)\n",
    "\n",
    "def count_positives(x, midpoint):\n",
    "    x = x.dropna()\n",
    "    return 10 * (sum(x > midpoint) / len(x))\n",
    "\n",
    "def plot_opp_score(values):\n",
    "    grey = \"#AAAAAA\"\n",
    "    plt.figure(figsize=(8, 8))\n",
    "    plt.xlim(0, 10)\n",
    "    plt.ylim(0, 10)\n",
    "    plt.xlabel(\"importance\")\n",
    "    plt.ylabel(\"satisfaction\")\n",
    "    plt.title(\"Opportunity Landscape\")\n",
    "    plt.axline((0, 0), (10, 10), linestyle='-', color=grey)\n",
    "    plt.axline((5, 0), (10, 10), linestyle='-', color=grey)\n",
    "    plt.plot([0, 10], [-11.5, (10-1)/(10-5.5)*10-11.5], linestyle='--', color=grey)\n",
    "    plt.plot([0, 10], [-14.5, (10-1)/(10-5.5)*10-14.5], linestyle='--', color=grey)\n",
    "    plt.text(3, 5.8, \"Overserved\", color=grey)\n",
    "    plt.text(4, 2, \"Appropriately\\nServed\", color=grey)\n",
    "    plt.text(6.5, 2, \"Underserved\", color=grey)\n",
    "    plt.text(7.5, 4.5, \"Opp>10\\nSolid Opportunity\", color=grey)\n",
    "    plt.text(7.6, 3, \"Opp>12\\nHigh Opportunity\", color=grey)\n",
    "    plt.text(7.7, 0.4, \"Opp>15\\nExtreme Opportunity\", color=grey)\n",
    "    plt.scatter(values['importance'], values['satisfaction'], color='red', marker='o', s=50)\n",
    "    for i, txt in enumerate(values.index.map(str)):\n",
    "        plt.annotate(txt, (values['importance'][i+1], values['satisfaction'][i+1]), xytext=(6, -3), textcoords='offset points', color='black', fontweight='bold', fontsize=8)\n",
    "    plt.show()"
   ]
  },
  {
   "cell_type": "code",
   "execution_count": null,
   "metadata": {},
   "outputs": [],
   "source": [
    "# Read the CSV file\n",
    "data = pd.read_csv(filename)\n",
    "\n",
    "# Remove rows with missing values if required\n",
    "if remove_missing:\n",
    "    data = data.dropna(subset=[imp_name, sat_name])\n",
    "\n",
    "imp = data.groupby('outcome')['importance'].apply(lambda x: count_positives(x, midpoint)).reset_index()\n",
    "sat = data.groupby('outcome')['satisfaction'].apply(lambda x: count_positives(x, midpoint)).reset_index()\n",
    "\n",
    "values = imp.merge(sat, on=\"outcome\", how=\"outer\")\n",
    "\n",
    "# Compute opportunity scores\n",
    "values['oppscore'] = values.apply(lambda row: op_score(row['importance'], row['satisfaction']), axis=1)\n",
    "\n",
    "# Sort the values by opportunity score\n",
    "values = values.sort_values(by='oppscore', ascending=False)\n",
    "\n",
    "# Reset the index\n",
    "values = values.reset_index(drop=True)\n",
    "values.index += 1"
   ]
  },
  {
   "cell_type": "code",
   "execution_count": null,
   "metadata": {},
   "outputs": [],
   "source": [
    "# Print the opportunity scores with the outcomes column left aligned and the rest right aligned\n",
    "\n",
    "# Custom formatter for the outcome column to left align the text\n",
    "max_len = values['outcome'].str.len().max()\n",
    "outcome_fmt = lambda x: '{:<{}}'.format(x, max_len)\n",
    "\n",
    "# Hack to fix stupid alignment of the outcome column header\n",
    "t = values.to_string(formatters={'outcome': outcome_fmt}, float_format='{:>.2f}'.format)\n",
    "print(t.replace(' '*(max_len-7)+'outcome', 'outcome'+' '*(max_len-7)))\n",
    "\n",
    "# Plot the opportunity landscape\n",
    "plot_opp_score(values)"
   ]
  }
 ],
 "metadata": {
  "kernelspec": {
   "display_name": "Python 3",
   "language": "python",
   "name": "python3"
  },
  "language_info": {
   "codemirror_mode": {
    "name": "ipython",
    "version": 3
   },
   "file_extension": ".py",
   "mimetype": "text/x-python",
   "name": "python",
   "nbconvert_exporter": "python",
   "pygments_lexer": "ipython3",
   "version": "3.12.5"
  }
 },
 "nbformat": 4,
 "nbformat_minor": 2
}
